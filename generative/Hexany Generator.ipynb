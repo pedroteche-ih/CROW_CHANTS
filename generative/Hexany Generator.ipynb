{
 "cells": [
  {
   "cell_type": "code",
   "execution_count": 1,
   "metadata": {},
   "outputs": [],
   "source": [
    "import fractions as f\n",
    "import itertools as it\n",
    "import collections as col"
   ]
  },
  {
   "attachments": {},
   "cell_type": "markdown",
   "metadata": {},
   "source": [
    "# Hexany Generator\n",
    "\n",
    "Following Narushima's book on Wilson's tuning systems."
   ]
  },
  {
   "cell_type": "code",
   "execution_count": 2,
   "metadata": {},
   "outputs": [],
   "source": [
    "def generate_hexany(factors: set) -> list:\n",
    "    '''\n",
    "    Generates the tone factors for all the (2, 4) combinations of elements in set factors.\n",
    "    Arguments:\n",
    "        factors\n",
    "    Returns:\n",
    "        combinations\n",
    "    '''\n",
    "    return list(it.combinations(factors, 2))\n",
    "\n",
    "def octave_reduce(ratio: f.Fraction) -> f.Fraction:\n",
    "    '''\n",
    "    Octave reduce a just-intonation ratio.\n",
    "    '''\n",
    "    new_ratio = ratio\n",
    "    while new_ratio < 1 or new_ratio >= 2:\n",
    "        if new_ratio <= 1:\n",
    "            new_ratio *= 2\n",
    "        elif new_ratio >= 2:\n",
    "            new_ratio /= 2\n",
    "    return new_ratio\n",
    "\n",
    "def generate_tones(factors: set) -> list:\n",
    "    '''\n",
    "    Generate octave-reduced tones from a set of factors\n",
    "    '''\n",
    "    nodes = generate_hexany(factors)\n",
    "    max_fac = max(factors)\n",
    "    tone_dict = {frozenset([node_A, node_B]) : octave_reduce(f.Fraction((node_A * node_B), max_fac)) for node_A, node_B in nodes}\n",
    "    return tone_dict\n",
    "\n",
    "def generate_harmonic_triads(factors: set) -> list:\n",
    "    nodes = generate_hexany(factors)\n",
    "    triad_list = []\n",
    "    for comb in it.combinations(factors, 3):\n",
    "        excluded = factors.difference(comb).pop()\n",
    "        triad = [frozenset([node, excluded]) for node in comb]\n",
    "        triad_list.append(triad)\n",
    "    return triad_list\n",
    "\n",
    "def generate_subharmonic_triads(factors: set) -> list:\n",
    "    nodes = generate_hexany(factors)\n",
    "    triad_list = []\n",
    "    for comb in it.combinations(factors, 3):\n",
    "        triad = [frozenset(filter(lambda x: x != node, comb)) for node in comb]\n",
    "        triad_list.append(triad)\n",
    "    return triad_list\n",
    "\n",
    "def generate_tent(factors: set, triad_function) -> dict:\n",
    "    tones = generate_tones(factors)\n",
    "    triads = [[tones[node] for node in triad] for triad in triad_function(factors)]\n",
    "    tent_dict = dict()\n",
    "    for tone in tones.values():\n",
    "        tent_list = []\n",
    "        for triad in triads:\n",
    "            if tone in triad:\n",
    "                tent_list.append(tone)\n",
    "                for chord_tone in triad:\n",
    "                    if chord_tone != tone:\n",
    "                        tent_list.append(chord_tone)\n",
    "        tent_dict[tone] = tent_list\n",
    "\n",
    "    ordered_tent_dict = col.OrderedDict(sorted(tent_dict.items()))\n",
    "    return ordered_tent_dict\n",
    "\n",
    "def generate_neighbors(factors: set, triad_function) -> dict:\n",
    "    tones = generate_tones(factors)\n",
    "    triads = [[tones[node] for node in triad] for triad in triad_function(factors)]\n",
    "    tent_dict = dict()\n",
    "    for tone in tones.values():\n",
    "        tent_list = []\n",
    "        for triad in triads:\n",
    "            if tone in triad:\n",
    "                for chord_tone in triad:\n",
    "                    if chord_tone != tone:\n",
    "                        tent_list.append(chord_tone)\n",
    "        tent_dict[tone] = tent_list\n",
    "    return tent_dict\n",
    "\n",
    "def generate_chord_table(factors : set, triad_function) -> dict:\n",
    "    tones = generate_tones(factors)\n",
    "    triads = [set([tones[node] for node in triad]) for triad in triad_function(factors)]\n",
    "    neighbors = generate_neighbors(factors, triad_function)\n",
    "    chord_table = {}\n",
    "    for note in neighbors.keys():\n",
    "        chord_table[note] = {}\n",
    "        for neighbor in neighbors[note]:\n",
    "            for triad in triads:\n",
    "                if triad.issuperset((note, neighbor)):\n",
    "                    chord_table[note][neighbor] = triad.difference((note, neighbor)).pop()\n",
    "    return chord_table\n",
    "\n",
    "def lua_string_chord_table(factors: set) -> str:\n",
    "    harm_dict = generate_chord_table(factors, generate_harmonic_triads)\n",
    "    pprint = \"CHORD_HARM = {}\\n\"\n",
    "    for root in harm_dict.keys():\n",
    "        first = True\n",
    "        for sec_deg in harm_dict[root].keys():\n",
    "            thi_deg = harm_dict[root][sec_deg]\n",
    "            if first:\n",
    "                pprint += f\"CHORD_HARM[{root}] = \" + \"{}\\n\"\n",
    "                first = False\n",
    "            pprint += f\"CHORD_HARM[{root}][{sec_deg}] = {thi_deg}\\n\"\n",
    "\n",
    "    harm_dict = generate_chord_table(factors, generate_subharmonic_triads)\n",
    "    pprint += \"CHORD_SUBHARM = {}\\n\"\n",
    "    for root in harm_dict.keys():\n",
    "        first = True\n",
    "        for sec_deg in harm_dict[root].keys():\n",
    "            thi_deg = harm_dict[root][sec_deg]\n",
    "            if first:\n",
    "                pprint += f\"CHORD_SUBHARM[{root}] = \" + \"{}\\n\"\n",
    "                first = False\n",
    "            pprint += f\"CHORD_SUBHARM[{root}][{sec_deg}] = {thi_deg}\\n\"\n",
    "\n",
    "    return pprint\n",
    "\n",
    "def lua_string_tent(tent_dict: dict, harm: str, sequins = True) -> str:\n",
    "    lua_string = f\"{harm} = \" + \"{}\\n\"\n",
    "    for tone in tent_dict.keys():\n",
    "        if sequins:\n",
    "            tone_string = f\"{harm}[{tone}] = s\" + \"{\"\n",
    "        else:\n",
    "            tone_string = f\"{harm}[{tone}] = \" + \"{\"\n",
    "        first = True\n",
    "        for chord_tone in tent_dict[tone]:\n",
    "            if first:\n",
    "                first = False\n",
    "                tone_string += f\"{chord_tone}\"\n",
    "            else:\n",
    "                tone_string += f\", {chord_tone}\"\n",
    "        tone_string += \"}\\n\"\n",
    "        lua_string += tone_string\n",
    "    return lua_string\n",
    "\n",
    "def explorer_string(factors: set) -> str:\n",
    "    # Generate header\n",
    "    lua_string = \"-- Hexany \"\n",
    "    first = True\n",
    "    for factor in factors:\n",
    "        if first:\n",
    "            first = False\n",
    "            lua_string += f\"{factor}\"\n",
    "        else:\n",
    "            lua_string += f\"-{factor}\"\n",
    "    # Generate SCALE table\n",
    "    lua_string += \"\\nSCALE = {\"\n",
    "    tones = list(generate_tones(factors).values())\n",
    "    tones.sort()\n",
    "    first = True\n",
    "    for tone in tones:\n",
    "        if first:\n",
    "            first = False\n",
    "            lua_string += f\"{tone}\"\n",
    "        else:\n",
    "            lua_string += f\", {tone}\"\n",
    "    lua_string += \"}\\n\"\n",
    "    # Generate HARM table\n",
    "    harm_tent = generate_tent(factors, generate_harmonic_triads)\n",
    "    lua_string += lua_string_tent(harm_tent, \"HARM\")\n",
    "    lua_string += \"\\n\"\n",
    "    # Generate SUBHARM table\n",
    "    harm_tent = generate_tent(factors, generate_subharmonic_triads)\n",
    "    lua_string += lua_string_tent(harm_tent, \"SUBHARM\")\n",
    "    lua_string += \"\\n\"\n",
    "\n",
    "    return lua_string\n",
    "\n",
    "def wanderer_string(factors: set) -> str:\n",
    "    # Generate header\n",
    "    lua_string = \"-- Hexany \"\n",
    "    first = True\n",
    "    for factor in factors:\n",
    "        if first:\n",
    "            first = False\n",
    "            lua_string += f\"{factor}\"\n",
    "        else:\n",
    "            lua_string += f\"-{factor}\"\n",
    "    # Generate SCALE table\n",
    "    lua_string += \"\\nMASTER_SCALE = {\"\n",
    "    tones = list(generate_tones(factors).values())\n",
    "    tones.sort()\n",
    "    first = True\n",
    "    for tone in tones:\n",
    "        if first:\n",
    "            first = False\n",
    "            lua_string += f\"{tone}\"\n",
    "        else:\n",
    "            lua_string += f\", {tone}\"\n",
    "    lua_string += \"}\\n\"\n",
    "    # Generate HARM table\n",
    "    harm_tent = generate_tent(factors, generate_harmonic_triads)\n",
    "    lua_string += lua_string_tent(harm_tent, \"HARM\", sequins = False)\n",
    "    lua_string += \"\\n\"\n",
    "    # Generate SUBHARM table\n",
    "    harm_tent = generate_tent(factors, generate_subharmonic_triads)\n",
    "    lua_string += lua_string_tent(harm_tent, \"SUBHARM\", sequins = False)\n",
    "    lua_string += \"\\n\"\n",
    "\n",
    "    return lua_string\n",
    "\n",
    "def print_scale(factors):\n",
    "    tones = generate_tones(factors)\n",
    "    tone_list = [tone for tone in tones.values()]\n",
    "    tone_string = [str(tone) for tone in sorted(tone_list)]\n",
    "    \n",
    "    return \"SCALE = {\" + ', '.join(tone_string) + \"}\""
   ]
  },
  {
   "cell_type": "code",
   "execution_count": 3,
   "metadata": {},
   "outputs": [],
   "source": [
    "factors = set([1, 3, 5, 7])\n",
    "tones = generate_tones(factors)\n",
    "triads = [set([tones[node] for node in triad]) for triad in generate_harmonic_triads(factors)]\n",
    "neighbors = generate_neighbors(factors, generate_harmonic_triads)"
   ]
  },
  {
   "cell_type": "code",
   "execution_count": 4,
   "metadata": {},
   "outputs": [
    {
     "data": {
      "text/plain": [
       "[(frozenset({1, 7}), Fraction(1, 1)),\n",
       " (frozenset({3, 5}), Fraction(15, 14)),\n",
       " (frozenset({5, 7}), Fraction(5, 4)),\n",
       " (frozenset({1, 5}), Fraction(10, 7)),\n",
       " (frozenset({3, 7}), Fraction(3, 2)),\n",
       " (frozenset({1, 3}), Fraction(12, 7))]"
      ]
     },
     "execution_count": 4,
     "metadata": {},
     "output_type": "execute_result"
    }
   ],
   "source": [
    "[(fac, tone) for fac, tone in sorted(tones.items(), key = lambda x: x[1])]"
   ]
  },
  {
   "cell_type": "code",
   "execution_count": 26,
   "metadata": {},
   "outputs": [
    {
     "name": "stdout",
     "output_type": "stream",
     "text": [
      "-- Hexany 1-3-5-7\n",
      "MASTER_SCALE = {1, 15/14, 5/4, 10/7, 3/2, 12/7}\n",
      "HARM = {}\n",
      "HARM[1] = {1, 3/2, 5/4, 1, 12/7, 10/7}\n",
      "HARM[15/14] = {15/14, 10/7, 5/4, 15/14, 12/7, 3/2}\n",
      "HARM[5/4] = {5/4, 1, 3/2, 5/4, 10/7, 15/14}\n",
      "HARM[10/7] = {10/7, 15/14, 5/4, 10/7, 12/7, 1}\n",
      "HARM[3/2] = {3/2, 1, 5/4, 3/2, 12/7, 15/14}\n",
      "HARM[12/7] = {12/7, 15/14, 3/2, 12/7, 10/7, 1}\n",
      "\n",
      "SUBHARM = {}\n",
      "SUBHARM[1] = {1, 3/2, 12/7, 1, 5/4, 10/7}\n",
      "SUBHARM[15/14] = {15/14, 10/7, 12/7, 15/14, 5/4, 3/2}\n",
      "SUBHARM[5/4] = {5/4, 1, 10/7, 5/4, 3/2, 15/14}\n",
      "SUBHARM[10/7] = {10/7, 15/14, 12/7, 10/7, 5/4, 1}\n",
      "SUBHARM[3/2] = {3/2, 1, 12/7, 3/2, 5/4, 15/14}\n",
      "SUBHARM[12/7] = {12/7, 15/14, 10/7, 12/7, 3/2, 1}\n",
      "\n",
      "\n",
      "CHORD_HARM = {}\n",
      "CHORD_HARM[12/7] = {}\n",
      "CHORD_HARM[12/7][15/14] = 3/2\n",
      "CHORD_HARM[12/7][3/2] = 15/14\n",
      "CHORD_HARM[12/7][10/7] = 1\n",
      "CHORD_HARM[12/7][1] = 10/7\n",
      "CHORD_HARM[10/7] = {}\n",
      "CHORD_HARM[10/7][15/14] = 5/4\n",
      "CHORD_HARM[10/7][5/4] = 15/14\n",
      "CHORD_HARM[10/7][12/7] = 1\n",
      "CHORD_HARM[10/7][1] = 12/7\n",
      "CHORD_HARM[1] = {}\n",
      "CHORD_HARM[1][3/2] = 5/4\n",
      "CHORD_HARM[1][5/4] = 3/2\n",
      "CHORD_HARM[1][12/7] = 10/7\n",
      "CHORD_HARM[1][10/7] = 12/7\n",
      "CHORD_HARM[15/14] = {}\n",
      "CHORD_HARM[15/14][10/7] = 5/4\n",
      "CHORD_HARM[15/14][5/4] = 10/7\n",
      "CHORD_HARM[15/14][12/7] = 3/2\n",
      "CHORD_HARM[15/14][3/2] = 12/7\n",
      "CHORD_HARM[3/2] = {}\n",
      "CHORD_HARM[3/2][1] = 5/4\n",
      "CHORD_HARM[3/2][5/4] = 1\n",
      "CHORD_HARM[3/2][12/7] = 15/14\n",
      "CHORD_HARM[3/2][15/14] = 12/7\n",
      "CHORD_HARM[5/4] = {}\n",
      "CHORD_HARM[5/4][1] = 3/2\n",
      "CHORD_HARM[5/4][3/2] = 1\n",
      "CHORD_HARM[5/4][10/7] = 15/14\n",
      "CHORD_HARM[5/4][15/14] = 10/7\n",
      "CHORD_SUBHARM = {}\n",
      "CHORD_SUBHARM[12/7] = {}\n",
      "CHORD_SUBHARM[12/7][15/14] = 10/7\n",
      "CHORD_SUBHARM[12/7][10/7] = 15/14\n",
      "CHORD_SUBHARM[12/7][3/2] = 1\n",
      "CHORD_SUBHARM[12/7][1] = 3/2\n",
      "CHORD_SUBHARM[10/7] = {}\n",
      "CHORD_SUBHARM[10/7][15/14] = 12/7\n",
      "CHORD_SUBHARM[10/7][12/7] = 15/14\n",
      "CHORD_SUBHARM[10/7][5/4] = 1\n",
      "CHORD_SUBHARM[10/7][1] = 5/4\n",
      "CHORD_SUBHARM[1] = {}\n",
      "CHORD_SUBHARM[1][3/2] = 12/7\n",
      "CHORD_SUBHARM[1][12/7] = 3/2\n",
      "CHORD_SUBHARM[1][5/4] = 10/7\n",
      "CHORD_SUBHARM[1][10/7] = 5/4\n",
      "CHORD_SUBHARM[15/14] = {}\n",
      "CHORD_SUBHARM[15/14][10/7] = 12/7\n",
      "CHORD_SUBHARM[15/14][12/7] = 10/7\n",
      "CHORD_SUBHARM[15/14][5/4] = 3/2\n",
      "CHORD_SUBHARM[15/14][3/2] = 5/4\n",
      "CHORD_SUBHARM[3/2] = {}\n",
      "CHORD_SUBHARM[3/2][1] = 12/7\n",
      "CHORD_SUBHARM[3/2][12/7] = 1\n",
      "CHORD_SUBHARM[3/2][5/4] = 15/14\n",
      "CHORD_SUBHARM[3/2][15/14] = 5/4\n",
      "CHORD_SUBHARM[5/4] = {}\n",
      "CHORD_SUBHARM[5/4][1] = 10/7\n",
      "CHORD_SUBHARM[5/4][10/7] = 1\n",
      "CHORD_SUBHARM[5/4][3/2] = 15/14\n",
      "CHORD_SUBHARM[5/4][15/14] = 3/2\n",
      "\n"
     ]
    }
   ],
   "source": [
    "print(wanderer_string(factors))\n",
    "print(lua_string_chord_table(factors))"
   ]
  },
  {
   "cell_type": "code",
   "execution_count": 10,
   "metadata": {},
   "outputs": [
    {
     "data": {
      "text/plain": [
       "[Fraction(1, 1),\n",
       " Fraction(1, 1),\n",
       " Fraction(1, 1),\n",
       " Fraction(1, 1),\n",
       " Fraction(9, 8),\n",
       " Fraction(5, 4),\n",
       " Fraction(5, 4),\n",
       " Fraction(11, 8),\n",
       " Fraction(3, 2),\n",
       " Fraction(3, 2),\n",
       " Fraction(3, 2),\n",
       " Fraction(13, 8),\n",
       " Fraction(7, 4)]"
      ]
     },
     "execution_count": 10,
     "metadata": {},
     "output_type": "execute_result"
    }
   ],
   "source": [
    "sorted([octave_reduce(f.Fraction(i/1)) for i in range(1, 14)])"
   ]
  },
  {
   "cell_type": "code",
   "execution_count": null,
   "metadata": {},
   "outputs": [],
   "source": []
  },
  {
   "cell_type": "code",
   "execution_count": 5,
   "metadata": {},
   "outputs": [
    {
     "name": "stdout",
     "output_type": "stream",
     "text": [
      "-- Hexany 9-2-3-5\n",
      "MASTER_SCALE = {1, 10/9, 5/4, 4/3, 3/2, 5/3}\n",
      "HARM = {}\n",
      "HARM[1] = {1, 4/3, 10/9, 1, 3/2, 5/4}\n",
      "HARM[10/9] = {10/9, 5/4, 5/3, 10/9, 1, 4/3}\n",
      "HARM[5/4] = {5/4, 10/9, 5/3, 5/4, 1, 3/2}\n",
      "HARM[4/3] = {4/3, 3/2, 5/3, 4/3, 1, 10/9}\n",
      "HARM[3/2] = {3/2, 4/3, 5/3, 3/2, 1, 5/4}\n",
      "HARM[5/3] = {5/3, 5/4, 10/9, 5/3, 3/2, 4/3}\n",
      "\n",
      "SUBHARM = {}\n",
      "SUBHARM[1] = {1, 4/3, 3/2, 1, 10/9, 5/4}\n",
      "SUBHARM[10/9] = {10/9, 5/4, 1, 10/9, 5/3, 4/3}\n",
      "SUBHARM[5/4] = {5/4, 10/9, 1, 5/4, 5/3, 3/2}\n",
      "SUBHARM[4/3] = {4/3, 3/2, 1, 4/3, 5/3, 10/9}\n",
      "SUBHARM[3/2] = {3/2, 4/3, 1, 3/2, 5/3, 5/4}\n",
      "SUBHARM[5/3] = {5/3, 5/4, 3/2, 5/3, 10/9, 4/3}\n",
      "\n",
      "\n"
     ]
    }
   ],
   "source": [
    "print(wanderer_string(factors))"
   ]
  },
  {
   "cell_type": "code",
   "execution_count": 33,
   "metadata": {},
   "outputs": [
    {
     "data": {
      "text/plain": [
       "[{Fraction(10, 9), Fraction(5, 4), Fraction(5, 3)},\n",
       " {Fraction(4, 3), Fraction(3, 2), Fraction(5, 3)},\n",
       " {Fraction(1, 1), Fraction(10, 9), Fraction(4, 3)},\n",
       " {Fraction(1, 1), Fraction(5, 4), Fraction(3, 2)}]"
      ]
     },
     "execution_count": 33,
     "metadata": {},
     "output_type": "execute_result"
    }
   ],
   "source": [
    "triads"
   ]
  },
  {
   "cell_type": "code",
   "execution_count": 30,
   "metadata": {},
   "outputs": [
    {
     "data": {
      "text/plain": [
       "True"
      ]
     },
     "execution_count": 30,
     "metadata": {},
     "output_type": "execute_result"
    }
   ],
   "source": [
    "a.issuperset((1,2))"
   ]
  },
  {
   "cell_type": "code",
   "execution_count": 20,
   "metadata": {},
   "outputs": [
    {
     "data": {
      "text/plain": [
       "{Fraction(1, 1): [Fraction(4, 3),\n",
       "  Fraction(10, 9),\n",
       "  Fraction(3, 2),\n",
       "  Fraction(5, 4)],\n",
       " Fraction(3, 2): [Fraction(4, 3),\n",
       "  Fraction(5, 3),\n",
       "  Fraction(1, 1),\n",
       "  Fraction(5, 4)],\n",
       " Fraction(5, 4): [Fraction(10, 9),\n",
       "  Fraction(5, 3),\n",
       "  Fraction(1, 1),\n",
       "  Fraction(3, 2)],\n",
       " Fraction(4, 3): [Fraction(3, 2),\n",
       "  Fraction(5, 3),\n",
       "  Fraction(1, 1),\n",
       "  Fraction(10, 9)],\n",
       " Fraction(10, 9): [Fraction(5, 4),\n",
       "  Fraction(5, 3),\n",
       "  Fraction(1, 1),\n",
       "  Fraction(4, 3)],\n",
       " Fraction(5, 3): [Fraction(5, 4),\n",
       "  Fraction(10, 9),\n",
       "  Fraction(3, 2),\n",
       "  Fraction(4, 3)]}"
      ]
     },
     "execution_count": 20,
     "metadata": {},
     "output_type": "execute_result"
    }
   ],
   "source": []
  },
  {
   "cell_type": "code",
   "execution_count": 17,
   "metadata": {},
   "outputs": [],
   "source": [
    "a = [1,2,3]\n",
    "b = a.copy()"
   ]
  },
  {
   "cell_type": "code",
   "execution_count": 7,
   "metadata": {},
   "outputs": [
    {
     "name": "stdout",
     "output_type": "stream",
     "text": [
      "-- Hexany 9-2-3-5\n",
      "SCALE = {1, 10/9, 5/4, 4/3, 3/2, 5/3}\n",
      "HARM = {}\n",
      "HARM[1] = s{1, 4/3, 10/9, 1, 3/2, 5/4}\n",
      "HARM[10/9] = s{10/9, 5/4, 5/3, 10/9, 1, 4/3}\n",
      "HARM[5/4] = s{5/4, 10/9, 5/3, 5/4, 1, 3/2}\n",
      "HARM[4/3] = s{4/3, 3/2, 5/3, 4/3, 1, 10/9}\n",
      "HARM[3/2] = s{3/2, 4/3, 5/3, 3/2, 1, 5/4}\n",
      "HARM[5/3] = s{5/3, 5/4, 10/9, 5/3, 3/2, 4/3}\n",
      "\n",
      "SUBHARM = {}\n",
      "SUBHARM[1] = s{1, 4/3, 3/2, 1, 10/9, 5/4}\n",
      "SUBHARM[10/9] = s{10/9, 5/4, 1, 10/9, 5/3, 4/3}\n",
      "SUBHARM[5/4] = s{5/4, 10/9, 1, 5/4, 5/3, 3/2}\n",
      "SUBHARM[4/3] = s{4/3, 3/2, 1, 4/3, 5/3, 10/9}\n",
      "SUBHARM[3/2] = s{3/2, 4/3, 1, 3/2, 5/3, 5/4}\n",
      "SUBHARM[5/3] = s{5/3, 5/4, 3/2, 5/3, 10/9, 4/3}\n",
      "\n",
      "\n"
     ]
    }
   ],
   "source": [
    "factors = set([2, 3, 5, 9])\n",
    "print(explorer_string(factors))"
   ]
  },
  {
   "cell_type": "code",
   "execution_count": null,
   "metadata": {},
   "outputs": [],
   "source": []
  }
 ],
 "metadata": {
  "kernelspec": {
   "display_name": "base_311",
   "language": "python",
   "name": "python3"
  },
  "language_info": {
   "codemirror_mode": {
    "name": "ipython",
    "version": 3
   },
   "file_extension": ".py",
   "mimetype": "text/x-python",
   "name": "python",
   "nbconvert_exporter": "python",
   "pygments_lexer": "ipython3",
   "version": "3.11.0"
  },
  "orig_nbformat": 4,
  "vscode": {
   "interpreter": {
    "hash": "f1f399071f7be27679df1e453f668ea9dd3a9126603286a1a197eabdfe67d10b"
   }
  }
 },
 "nbformat": 4,
 "nbformat_minor": 2
}
